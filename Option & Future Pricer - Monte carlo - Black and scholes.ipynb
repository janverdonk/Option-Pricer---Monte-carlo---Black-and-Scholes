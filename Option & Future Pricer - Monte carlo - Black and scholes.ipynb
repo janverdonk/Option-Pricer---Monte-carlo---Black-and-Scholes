{
 "cells": [
  {
   "cell_type": "markdown",
   "metadata": {},
   "source": [
    "# Monte Carlo valuation of Call options, Put options and Futures with NumPy \n",
    "\n",
    " "
   ]
  },
  {
   "cell_type": "code",
   "execution_count": null,
   "metadata": {},
   "outputs": [],
   "source": [
    "import math\n",
    "from numpy import *\n",
    "from time import time"
   ]
  },
  {
   "cell_type": "code",
   "execution_count": 7,
   "metadata": {},
   "outputs": [
    {
     "name": "stdout",
     "output_type": "stream",
     "text": [
      "The European Option Value is:  32.67018383397206\n",
      "The Execution Time is:  1.516690731048584\n"
     ]
    }
   ],
   "source": [
    "# Call Option\n",
    "random.seed(20000)\n",
    "t0 = time()\n",
    "# Parameters\n",
    "S0 = 107.; K = 105.; T = 5.0; r = 0.06; sigma = 0.15\n",
    "M = 50; dt = T / M; I = 250000\n",
    "# Simulating I paths with M time steps\n",
    "S = S0 * exp(cumsum((r - 0.5 * sigma ** 2) * dt\n",
    "+ sigma * math.sqrt(dt)\n",
    "* random.standard_normal((M + 1, I)), axis=0))\n",
    "S[0] = S0\n",
    "# Calculating the Monte Carlo estimator\n",
    "C0 = math.exp(-r * T) * sum(maximum(S[-1] - K, 0)) / I\n",
    "# Results output\n",
    "tnp2 = time() - t0\n",
    "\n",
    "print('The European Call Option Value is: ', C0) \n",
    "print('The Execution Time is: ',tnp2) "
   ]
  },
  {
   "cell_type": "code",
   "execution_count": 2,
   "metadata": {},
   "outputs": [
    {
     "name": "stdout",
     "output_type": "stream",
     "text": [
      "The European Option Value is:  2.7457847333958956\n",
      "The Execution Time is:  1.7453947067260742\n"
     ]
    }
   ],
   "source": [
    "random.seed(20000)\n",
    "t0 = time()\n",
    "# Parameters\n",
    "S0 = 107.; K = 105.; T = 5.0; r = 0.06; sigma = 0.15\n",
    "M = 50; dt = T / M; I = 250000\n",
    "# Simulating I paths with M time steps\n",
    "S = S0 * exp(cumsum((r - 0.5 * sigma ** 2) * dt\n",
    "+ sigma * math.sqrt(dt)\n",
    "* random.standard_normal((M + 1, I)), axis=0))\n",
    "S[0] = S0\n",
    "# Calculating the Monte Carlo estimator\n",
    "P0 = math.exp(-r * T) * sum(maximum(K - S[-1], 0)) / I\n",
    "# Results output\n",
    "tnp2 = time() - t0\n",
    "\n",
    "print('The European Put Option Value is: ', C0) \n",
    "print('The Execution Time is: ',tnp2)  "
   ]
  },
  {
   "cell_type": "code",
   "execution_count": 8,
   "metadata": {},
   "outputs": [
    {
     "name": "stdout",
     "output_type": "stream",
     "text": [
      "The Future Value is:  107.71031227215654\n",
      "The Execution Time is:  1.51588773727417\n"
     ]
    }
   ],
   "source": [
    "random.seed(20000)\n",
    "t0 = time()\n",
    "# Parameters\n",
    "S0 = 107.; K = 0.; T = 5.0; r = 0.06; sigma = 0.15\n",
    "M = 50; dt = T / M; I = 250000\n",
    "# Simulating I paths with M time steps\n",
    "S = S0 * exp(cumsum((r - 0.5 * sigma ** 2) * dt\n",
    "+ sigma * math.sqrt(dt)\n",
    "* random.standard_normal((M + 1, I)), axis=0))\n",
    "S[0] = S0\n",
    "# Calculating the Monte Carlo estimator\n",
    "F0 = math.exp(-r * T) * sum(maximum(S[-1] - K, 0)) / I\n",
    "# Results output\n",
    "tnp2 = time() - t0\n",
    "\n",
    "print('The Future Value is: ', C0) \n",
    "print('The Execution Time is: ',tnp2)  "
   ]
  },
  {
   "cell_type": "markdown",
   "metadata": {},
   "source": [
    "# Black and Scholes Model validation"
   ]
  },
  {
   "cell_type": "code",
   "execution_count": 5,
   "metadata": {},
   "outputs": [],
   "source": [
    "#Model Validation for the Call Option\n",
    "from scipy.stats import norm\n",
    "import numpy as np\n",
    "def discount_factor(r,T):\n",
    "    d = np.exp(-r*T)\n",
    "    return d \n",
    "\n",
    "def d1(S,K,T,r,sigma):\n",
    "    return((np.log(S/K)+(r+(sigma**2)/2)*T)/(sigma*np.sqrt(T)))\n",
    "\n",
    "def Nd1(S,K,T,r,sigma):\n",
    "    return norm.cdf(d1(S,K,T,r,sigma))\n",
    "\n",
    "def Nd2(S,K,T,r,sigma):\n",
    "    return norm.cdf(d1(S,K,T,r,sigma)-sigma*np.sqrt(T))\n",
    "def BS_call(r, sigma, S, K, T):\n",
    "    return (S*Nd1(S,K,T,r,sigma)- K*discount_factor(r,T)*Nd2(S,K,T,r,sigma))\n"
   ]
  },
  {
   "cell_type": "code",
   "execution_count": 6,
   "metadata": {},
   "outputs": [
    {
     "data": {
      "text/plain": [
       "31.987663758544052"
      ]
     },
     "execution_count": 6,
     "metadata": {},
     "output_type": "execute_result"
    }
   ],
   "source": [
    "S = 107.; K = 105.; T = 5.0; r = 0.06; sigma = 0.15\n",
    "BS_call(r,sigma,S,K,T)"
   ]
  },
  {
   "cell_type": "code",
   "execution_count": 7,
   "metadata": {},
   "outputs": [],
   "source": [
    "#Model Validation for the Put Option\n",
    "def Nd1minus(S,K,T,r,sigma):\n",
    "    return norm.cdf(-d1(S,K,T,r,sigma))\n",
    "def Nd2minus(S,K,T,r,sigma):\n",
    "    return norm.cdf(-d1(S,K,T,r,sigma)+sigma*np.sqrt(T))\n",
    "def BS_put(r,sigma,S,K,T):\n",
    "    return (K*discount_factor(r,T)*Nd2minus(S,K,T,r,sigma)-S*Nd1minus(S,K,T,r,sigma))"
   ]
  },
  {
   "cell_type": "code",
   "execution_count": 8,
   "metadata": {},
   "outputs": [
    {
     "data": {
      "text/plain": [
       "2.7735769301244257"
      ]
     },
     "execution_count": 8,
     "metadata": {},
     "output_type": "execute_result"
    }
   ],
   "source": [
    "BS_put(r,sigma,S,K,T)"
   ]
  }
 ],
 "metadata": {
  "kernelspec": {
   "display_name": "Python 3",
   "language": "python",
   "name": "python3"
  },
  "language_info": {
   "codemirror_mode": {
    "name": "ipython",
    "version": 3
   },
   "file_extension": ".py",
   "mimetype": "text/x-python",
   "name": "python",
   "nbconvert_exporter": "python",
   "pygments_lexer": "ipython3",
   "version": "3.8.5"
  }
 },
 "nbformat": 4,
 "nbformat_minor": 4
}
